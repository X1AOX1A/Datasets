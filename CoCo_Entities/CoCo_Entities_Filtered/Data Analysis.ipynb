{
 "cells": [
  {
   "cell_type": "markdown",
   "id": "1ace7ccb",
   "metadata": {},
   "source": [
    "# CoCo Annotations"
   ]
  },
  {
   "cell_type": "markdown",
   "id": "e55cd1e3",
   "metadata": {},
   "source": [
    "## Read Data"
   ]
  },
  {
   "cell_type": "code",
   "execution_count": 1,
   "id": "c0133ed7",
   "metadata": {
    "ExecuteTime": {
     "end_time": "2023-06-10T10:49:01.689137Z",
     "start_time": "2023-06-10T10:49:01.671408Z"
    }
   },
   "outputs": [],
   "source": [
    "import os\n",
    "import json\n",
    "\n",
    "def read_annotations(ann_root):\n",
    "    splits = {\n",
    "        \"train\": 'coco_karpathy_train.json',\n",
    "        \"val\": 'coco_karpathy_val.json',\n",
    "        \"test\": 'coco_karpathy_test.json',\n",
    "    }\n",
    "    \n",
    "    annotations = {}\n",
    "    for split, file in splits.items():\n",
    "        data = json.load(\n",
    "            open(os.path.join(ann_root, file), \"r\")\n",
    "        )\n",
    "        # modify the \"image_id\"\n",
    "        for i, ann in enumerate(data):\n",
    "            data[i][\"image_id\"] = str(int(ann[\"image\"].split('_')[-1].split('.')[0]))\n",
    "        \n",
    "        annotations[split] = data                \n",
    "    return annotations"
   ]
  },
  {
   "cell_type": "code",
   "execution_count": 2,
   "id": "cded63ef",
   "metadata": {
    "ExecuteTime": {
     "end_time": "2023-06-10T10:49:02.776911Z",
     "start_time": "2023-06-10T10:49:01.692258Z"
    }
   },
   "outputs": [],
   "source": [
    "ann_root = \"/root/Documents/DATASETS/MS_COCO/annotations\"\n",
    "annotations = read_annotations(ann_root)"
   ]
  },
  {
   "cell_type": "markdown",
   "id": "e648af4b",
   "metadata": {},
   "source": [
    "## Data Sample"
   ]
  },
  {
   "cell_type": "code",
   "execution_count": 3,
   "id": "a3c418cf",
   "metadata": {
    "ExecuteTime": {
     "end_time": "2023-06-10T10:49:02.786301Z",
     "start_time": "2023-06-10T10:49:02.779331Z"
    }
   },
   "outputs": [
    {
     "data": {
      "text/plain": [
       "{'caption': 'A woman wearing a net on her head cutting a cake. ',\n",
       " 'image': 'val2014/COCO_val2014_000000522418.jpg',\n",
       " 'image_id': '522418'}"
      ]
     },
     "execution_count": 3,
     "metadata": {},
     "output_type": "execute_result"
    }
   ],
   "source": [
    "annotations[\"train\"][0]"
   ]
  },
  {
   "cell_type": "code",
   "execution_count": 4,
   "id": "b2ca33c3",
   "metadata": {
    "ExecuteTime": {
     "end_time": "2023-06-10T10:49:02.793402Z",
     "start_time": "2023-06-10T10:49:02.788845Z"
    }
   },
   "outputs": [
    {
     "data": {
      "text/plain": [
       "{'image': 'val2014/COCO_val2014_000000184613.jpg',\n",
       " 'caption': ['A child holding a flowered umbrella and petting a yak.',\n",
       "  'A young man holding an umbrella next to a herd of cattle.',\n",
       "  'a young boy barefoot holding an umbrella touching the horn of a cow',\n",
       "  'A young boy with an umbrella who is touching the horn of a cow.',\n",
       "  'A boy holding an umbrella while standing next to livestock.'],\n",
       " 'image_id': '184613'}"
      ]
     },
     "execution_count": 4,
     "metadata": {},
     "output_type": "execute_result"
    }
   ],
   "source": [
    "annotations[\"val\"][0]"
   ]
  },
  {
   "cell_type": "markdown",
   "id": "fb1159ee",
   "metadata": {},
   "source": [
    "## Stat"
   ]
  },
  {
   "cell_type": "code",
   "execution_count": 5,
   "id": "1953e617",
   "metadata": {
    "ExecuteTime": {
     "end_time": "2023-06-10T10:49:02.861170Z",
     "start_time": "2023-06-10T10:49:02.795287Z"
    }
   },
   "outputs": [],
   "source": [
    "ann_image_id = {\"train\": [], \"val\": [], \"test\": []}\n",
    "ann_caption_num = {\"train\": [], \"val\": [], \"test\": []}\n",
    "\n",
    "ann_caption_num[\"train\"] = len(annotations[\"train\"])\n",
    "for split in [\"val\", \"test\"]:\n",
    "    ann_caption_num[split] = sum([len(ann[\"caption\"]) for ann in annotations[split]])\n",
    "\n",
    "for split in [\"train\", \"val\", \"test\"]:\n",
    "    ann_image_id[split] = [ann[\"image_id\"] for ann in annotations[split]]"
   ]
  },
  {
   "cell_type": "code",
   "execution_count": 6,
   "id": "aa5683fe",
   "metadata": {
    "ExecuteTime": {
     "end_time": "2023-06-10T10:49:02.905596Z",
     "start_time": "2023-06-10T10:49:02.863211Z"
    }
   },
   "outputs": [
    {
     "name": "stdout",
     "output_type": "stream",
     "text": [
      "Caption num:       {'train': 566747, 'val': 25010, 'test': 25010}\n",
      "Image num:         {'train': 566747, 'val': 5000, 'test': 5000}\n",
      "Unique image num:  {'train': 113287, 'val': 5000, 'test': 5000}\n"
     ]
    }
   ],
   "source": [
    "print(\"Caption num:      \", ann_caption_num)\n",
    "print(\"Image num:        \", {split: len(ann_image_id[split]) for split in [\"train\", \"val\", \"test\"]})\n",
    "print(\"Unique image num: \", {split: len(set(ann_image_id[split])) for split in [\"train\", \"val\", \"test\"]})"
   ]
  },
  {
   "cell_type": "markdown",
   "id": "d28fc4f6",
   "metadata": {},
   "source": [
    "# CoCo Entities"
   ]
  },
  {
   "cell_type": "markdown",
   "id": "f095cad7",
   "metadata": {},
   "source": [
    "## Read Data"
   ]
  },
  {
   "cell_type": "code",
   "execution_count": 7,
   "id": "e9a9c3ec",
   "metadata": {
    "ExecuteTime": {
     "end_time": "2023-06-10T10:49:21.072142Z",
     "start_time": "2023-06-10T10:49:02.907694Z"
    }
   },
   "outputs": [],
   "source": [
    "def read_entities(entities_path):\n",
    "    raw_entities = json.load(open(entities_path, \"r\"))\n",
    "    entities = {\"train\": {}, \"val\": {}, \"test\": {}}\n",
    "    for image_id, anns in raw_entities.items():\n",
    "        split = list(anns.values())[0][\"split\"]\n",
    "        entities[split][image_id] = anns\n",
    "    return entities\n",
    "        \n",
    "entities_path = \"/root/Documents/DATASETS/CoCo_Entities/coco_entities_release.json\"\n",
    "entities = read_entities(entities_path)"
   ]
  },
  {
   "cell_type": "markdown",
   "id": "4a50e798",
   "metadata": {},
   "source": [
    "## Data Sample"
   ]
  },
  {
   "cell_type": "code",
   "execution_count": 8,
   "id": "e17cd1df",
   "metadata": {
    "ExecuteTime": {
     "end_time": "2023-06-10T10:49:21.079869Z",
     "start_time": "2023-06-10T10:49:21.074503Z"
    }
   },
   "outputs": [
    {
     "data": {
      "text/plain": [
       "{'a woman marking a cake with the back of a chefs knife': {'det_sequences': ['_',\n",
       "   '_',\n",
       "   None,\n",
       "   '_',\n",
       "   '_',\n",
       "   None,\n",
       "   '_',\n",
       "   '_',\n",
       "   None,\n",
       "   'knife',\n",
       "   'knife',\n",
       "   'knife'],\n",
       "  'noun_chunks': [['a woman', '_'],\n",
       "   ['a cake', '_'],\n",
       "   ['the back', '_'],\n",
       "   ['a chefs knife', 'knife']],\n",
       "  'detections': {'knife': [[11,\n",
       "     [272.3580017089844,\n",
       "      406.91986083984375,\n",
       "      460.58953857421875,\n",
       "      472.1031799316406]]]},\n",
       "  'split': 'train'}}"
      ]
     },
     "execution_count": 8,
     "metadata": {},
     "output_type": "execute_result"
    }
   ],
   "source": [
    "entities[\"train\"][\"522418\"]"
   ]
  },
  {
   "cell_type": "code",
   "execution_count": 82,
   "id": "cbd5db40",
   "metadata": {
    "ExecuteTime": {
     "end_time": "2023-06-10T12:33:34.465241Z",
     "start_time": "2023-06-10T12:33:34.447196Z"
    }
   },
   "outputs": [
    {
     "data": {
      "text/plain": [
       "{'a child holding a flowered umbrella and petting a yak': {'det_sequences': ['_',\n",
       "   '_',\n",
       "   None,\n",
       "   'umbrella',\n",
       "   'umbrella',\n",
       "   'umbrella',\n",
       "   None,\n",
       "   None,\n",
       "   'goat',\n",
       "   'goat'],\n",
       "  'noun_chunks': [['a child', '_'],\n",
       "   ['a flowered umbrella', 'umbrella'],\n",
       "   ['a yak', 'goat']],\n",
       "  'detections': {'umbrella': [[22,\n",
       "     [97.15347290039062,\n",
       "      19.300228118896484,\n",
       "      252.22230529785156,\n",
       "      156.1619873046875]]],\n",
       "   'goat': [[26,\n",
       "     [287.6924133300781,\n",
       "      160.7919158935547,\n",
       "      458.9627990722656,\n",
       "      330.2914733886719]]]},\n",
       "  'split': 'val'},\n",
       " 'a young man holding an umbrella next to a herd of cattle': {'det_sequences': ['man',\n",
       "   'man',\n",
       "   'man',\n",
       "   None,\n",
       "   'umbrella',\n",
       "   'umbrella',\n",
       "   None,\n",
       "   None,\n",
       "   '_',\n",
       "   '_',\n",
       "   None,\n",
       "   '_'],\n",
       "  'noun_chunks': [['a young man', 'man'],\n",
       "   ['an umbrella', 'umbrella'],\n",
       "   ['a herd', '_'],\n",
       "   ['cattle', '_']],\n",
       "  'detections': {'umbrella': [[22,\n",
       "     [97.15347290039062,\n",
       "      19.300228118896484,\n",
       "      252.22230529785156,\n",
       "      156.1619873046875]]],\n",
       "   'man': [[13,\n",
       "     [1.792211890220642,\n",
       "      46.136470794677734,\n",
       "      84.72174835205078,\n",
       "      195.2536163330078]],\n",
       "    [35, [0.0, 47.9535026550293, 62.59144973754883, 202.26666259765625]],\n",
       "    [44,\n",
       "     [29.711027145385742,\n",
       "      99.6137466430664,\n",
       "      82.76918029785156,\n",
       "      206.63209533691406]]]},\n",
       "  'split': 'val'},\n",
       " 'a young boy barefoot holding an umbrella touching the horn of a cow': {'det_sequences': ['_',\n",
       "   '_',\n",
       "   '_',\n",
       "   '_',\n",
       "   None,\n",
       "   'umbrella',\n",
       "   'umbrella',\n",
       "   None,\n",
       "   'horn',\n",
       "   'horn',\n",
       "   None,\n",
       "   'cow',\n",
       "   'cow'],\n",
       "  'noun_chunks': [['a young boy barefoot', '_'],\n",
       "   ['an umbrella', 'umbrella'],\n",
       "   ['the horn', 'horn'],\n",
       "   ['a cow', 'cow']],\n",
       "  'detections': {'umbrella': [[22,\n",
       "     [97.15347290039062,\n",
       "      19.300228118896484,\n",
       "      252.22230529785156,\n",
       "      156.1619873046875]]],\n",
       "   'cow': [[7,\n",
       "     [219.88400268554688, 184.03125, 499.52001953125, 335.44000244140625]],\n",
       "    [28,\n",
       "     [298.54974365234375,\n",
       "      84.85787963867188,\n",
       "      445.1275329589844,\n",
       "      141.1632843017578]],\n",
       "    [36,\n",
       "     [458.5532531738281,\n",
       "      70.23468017578125,\n",
       "      497.65972900390625,\n",
       "      101.63622283935547]]],\n",
       "   'horn': [[19,\n",
       "     [304.73046875,\n",
       "      211.79176330566406,\n",
       "      348.4114990234375,\n",
       "      232.3231658935547]]]},\n",
       "  'split': 'val'},\n",
       " 'a young boy with an umbrella who is touching the horn of a cow': {'det_sequences': ['boy',\n",
       "   'boy',\n",
       "   'boy',\n",
       "   None,\n",
       "   'umbrella',\n",
       "   'umbrella',\n",
       "   'people',\n",
       "   None,\n",
       "   None,\n",
       "   'horn',\n",
       "   'horn',\n",
       "   None,\n",
       "   'cow',\n",
       "   'cow'],\n",
       "  'noun_chunks': [['a young boy', 'boy'],\n",
       "   ['an umbrella', 'umbrella'],\n",
       "   ['who', 'people'],\n",
       "   ['the horn', 'horn'],\n",
       "   ['a cow', 'cow']],\n",
       "  'detections': {'people': [[9,\n",
       "     [0.0, 0.0, 270.9290771484375, 234.3825225830078]],\n",
       "    [37,\n",
       "     [81.77257537841797,\n",
       "      34.35083770751953,\n",
       "      420.8821716308594,\n",
       "      113.3693618774414]],\n",
       "    [38,\n",
       "     [287.1575012207031,\n",
       "      50.81354904174805,\n",
       "      435.0410461425781,\n",
       "      90.64148712158203]],\n",
       "    [40,\n",
       "     [336.547607421875,\n",
       "      63.738731384277344,\n",
       "      398.9862976074219,\n",
       "      91.59905242919922]]],\n",
       "   'cow': [[7,\n",
       "     [219.88400268554688, 184.03125, 499.52001953125, 335.44000244140625]],\n",
       "    [28,\n",
       "     [298.54974365234375,\n",
       "      84.85787963867188,\n",
       "      445.1275329589844,\n",
       "      141.1632843017578]],\n",
       "    [36,\n",
       "     [458.5532531738281,\n",
       "      70.23468017578125,\n",
       "      497.65972900390625,\n",
       "      101.63622283935547]]],\n",
       "   'umbrella': [[22,\n",
       "     [97.15347290039062,\n",
       "      19.300228118896484,\n",
       "      252.22230529785156,\n",
       "      156.1619873046875]]],\n",
       "   'boy': [[8,\n",
       "     [161.65379333496094,\n",
       "      68.76399230957031,\n",
       "      271.4734802246094,\n",
       "      303.5986633300781]]],\n",
       "   'horn': [[19,\n",
       "     [304.73046875,\n",
       "      211.79176330566406,\n",
       "      348.4114990234375,\n",
       "      232.3231658935547]]]},\n",
       "  'split': 'val'},\n",
       " 'a boy holding an umbrella while standing next to livestock': {'det_sequences': ['boy',\n",
       "   'boy',\n",
       "   None,\n",
       "   'umbrella',\n",
       "   'umbrella',\n",
       "   None,\n",
       "   None,\n",
       "   None,\n",
       "   None,\n",
       "   '_'],\n",
       "  'noun_chunks': [['a boy', 'boy'],\n",
       "   ['an umbrella', 'umbrella'],\n",
       "   ['livestock', '_']],\n",
       "  'detections': {'umbrella': [[22,\n",
       "     [97.15347290039062,\n",
       "      19.300228118896484,\n",
       "      252.22230529785156,\n",
       "      156.1619873046875]]],\n",
       "   'boy': [[8,\n",
       "     [161.65379333496094,\n",
       "      68.76399230957031,\n",
       "      271.4734802246094,\n",
       "      303.5986633300781]]]},\n",
       "  'split': 'val'}}"
      ]
     },
     "execution_count": 82,
     "metadata": {},
     "output_type": "execute_result"
    }
   ],
   "source": [
    "entities[\"val\"]['184613']"
   ]
  },
  {
   "cell_type": "markdown",
   "id": "89fc4093",
   "metadata": {},
   "source": [
    "## Stat"
   ]
  },
  {
   "cell_type": "code",
   "execution_count": 9,
   "id": "c87dff54",
   "metadata": {
    "ExecuteTime": {
     "end_time": "2023-06-10T10:49:21.115692Z",
     "start_time": "2023-06-10T10:49:21.081657Z"
    }
   },
   "outputs": [],
   "source": [
    "enti_image_id = {\"train\": [], \"val\": [], \"test\": []}\n",
    "enti_caption_num = {\"train\": [], \"val\": [], \"test\": []}\n",
    "\n",
    "for split in [\"train\", \"val\", \"test\"]:\n",
    "    enti_image_id[split] = list(entities[split].keys())\n",
    "    enti_caption_num[split] = sum([len(enti) for enti in entities[split]])"
   ]
  },
  {
   "cell_type": "code",
   "execution_count": 10,
   "id": "db06437d",
   "metadata": {
    "ExecuteTime": {
     "end_time": "2023-06-10T10:49:21.141228Z",
     "start_time": "2023-06-10T10:49:21.118336Z"
    }
   },
   "outputs": [
    {
     "name": "stdout",
     "output_type": "stream",
     "text": [
      "Caption num:       {'train': 657455, 'val': 29052, 'test': 28999}\n",
      "Image num:         {'train': 113179, 'val': 4995, 'test': 4995}\n",
      "Unique image num:  {'train': 113179, 'val': 4995, 'test': 4995}\n"
     ]
    }
   ],
   "source": [
    "print(\"Caption num:      \", enti_caption_num)\n",
    "print(\"Image num:        \", {split: len(enti_image_id[split]) for split in [\"train\", \"val\", \"test\"]})\n",
    "print(\"Unique image num: \", {split: len(set(enti_image_id[split])) for split in [\"train\", \"val\", \"test\"]})"
   ]
  },
  {
   "cell_type": "markdown",
   "id": "f1999fa7",
   "metadata": {},
   "source": [
    "# Overlap"
   ]
  },
  {
   "cell_type": "markdown",
   "id": "d08afcaa",
   "metadata": {},
   "source": [
    "## Image Overlap"
   ]
  },
  {
   "cell_type": "code",
   "execution_count": 30,
   "id": "4a7cb483",
   "metadata": {
    "ExecuteTime": {
     "end_time": "2023-06-10T12:07:17.934256Z",
     "start_time": "2023-06-10T12:07:17.798884Z"
    },
    "scrolled": true
   },
   "outputs": [
    {
     "name": "stdout",
     "output_type": "stream",
     "text": [
      "In entities but not in annotations:\n",
      "{'train': 0, 'val': 0, 'test': 0}\n",
      "\n",
      "In annotations but not in entities:\n",
      "{'train': 108, 'val': 5, 'test': 5}\n"
     ]
    }
   ],
   "source": [
    "print(\"In entities but not in annotations:\")\n",
    "in_enti_not_in_ann = {}\n",
    "for split in [\"train\", \"val\", \"test\"]:\n",
    "    in_enti_not_in_ann[split] = list(set(enti_image_id[split]) - set(ann_image_id[split]))\n",
    "print({split: len(in_enti_not_in_ann[split]) for split in [\"train\", \"val\", \"test\"]})\n",
    "\n",
    "print(\"\\nIn annotations but not in entities:\")\n",
    "in_ann_not_in_enti = {}\n",
    "for split in [\"train\", \"val\", \"test\"]:\n",
    "    in_ann_not_in_enti[split] = list(set(ann_image_id[split]) - set(enti_image_id[split]))\n",
    "print({split: len(in_ann_not_in_enti[split]) for split in [\"train\", \"val\", \"test\"]})"
   ]
  },
  {
   "cell_type": "markdown",
   "id": "48cc78f1",
   "metadata": {},
   "source": [
    "## Caption Overlap"
   ]
  },
  {
   "cell_type": "code",
   "execution_count": 86,
   "id": "84da5fd4",
   "metadata": {
    "ExecuteTime": {
     "end_time": "2023-06-10T12:37:02.106525Z",
     "start_time": "2023-06-10T12:36:49.153629Z"
    }
   },
   "outputs": [],
   "source": [
    "import re\n",
    "def clean_text(string):\n",
    "    string = string.lower()\n",
    "    string = re.sub(r\"[^a-z]+\", \"\", string)\n",
    "    string = string.strip()\n",
    "    return string\n",
    "    \n",
    "cap_enti_num = {\"train\": 0, \"val\": 0, \"test\": 0}\n",
    "unfound_image = {\"train\": [], \"val\": [], \"test\": []}\n",
    "unfound_cap = {\"train\": [], \"val\": [], \"test\": []}\n",
    "    \n",
    "split = \"train\"\n",
    "for ann in annotations[split]:\n",
    "    image_id = ann[\"image_id\"]\n",
    "    caption = ann[\"caption\"]\n",
    "    caption = clean_text(caption)\n",
    "    \n",
    "    if image_id not in entities[split]:\n",
    "        unfound_image[split].append(ann)\n",
    "    elif caption not in [clean_text(enti) for enti in entities[split][image_id]]:\n",
    "        unfound_cap[split].append(ann)\n",
    "    else:\n",
    "        cap_enti_num[split] += 1"
   ]
  },
  {
   "cell_type": "code",
   "execution_count": 87,
   "id": "d4f62c52",
   "metadata": {
    "ExecuteTime": {
     "end_time": "2023-06-10T12:37:02.114048Z",
     "start_time": "2023-06-10T12:37:02.109094Z"
    }
   },
   "outputs": [
    {
     "name": "stdout",
     "output_type": "stream",
     "text": [
      "Success caption-entities pairs num:  {'train': 545224, 'val': 0, 'test': 0}\n",
      "Unfound image in entities:  {'train': 540, 'val': 0, 'test': 0}\n",
      "Unfound caption in entities:  {'train': 20983, 'val': 0, 'test': 0}\n"
     ]
    }
   ],
   "source": [
    "print(\"Success caption-entities pairs num: \", cap_enti_num)\n",
    "print(\"Unfound image in entities: \", {split: len(unfound_image[split]) for split in [\"train\", \"val\", \"test\"]})\n",
    "print(\"Unfound caption in entities: \", {split: len(unfound_cap[split]) for split in [\"train\", \"val\", \"test\"]})"
   ]
  },
  {
   "cell_type": "code",
   "execution_count": 79,
   "id": "7bc0414f",
   "metadata": {
    "ExecuteTime": {
     "end_time": "2023-06-10T12:31:08.699473Z",
     "start_time": "2023-06-10T12:31:08.690466Z"
    }
   },
   "outputs": [
    {
     "name": "stdout",
     "output_type": "stream",
     "text": [
      "Annotation:\n",
      "A close up of a giraffe chewing on some hay.\n",
      "\n",
      "Entites\n",
      "a giraffe with a mouth full of grass in front of a forest\n",
      "a close up of a giraffe head eating on grass\n",
      "a giraffe is chewing a mouthful of grass\n",
      "a hungry giraffe is eating its food in the zoo\n"
     ]
    }
   ],
   "source": [
    "split = \"train\"\n",
    "ann =  {'caption': 'A close up of a giraffe chewing on some hay.',\n",
    "  'image': 'val2014/COCO_val2014_000000511058.jpg',\n",
    "  'image_id': '511058'}\n",
    "\n",
    "image_id = ann[\"image_id\"]\n",
    "caption = ann[\"caption\"]\n",
    "\n",
    "print(\"Annotation:\")\n",
    "print(caption)\n",
    "print(\"\\nEntites\")\n",
    "for enti in list(entities[split][image_id].keys()):\n",
    "    print(enti)\n"
   ]
  }
 ],
 "metadata": {
  "kernelspec": {
   "display_name": "PlayGround",
   "language": "python",
   "name": "playground"
  },
  "language_info": {
   "codemirror_mode": {
    "name": "ipython",
    "version": 3
   },
   "file_extension": ".py",
   "mimetype": "text/x-python",
   "name": "python",
   "nbconvert_exporter": "python",
   "pygments_lexer": "ipython3",
   "version": "3.8.0"
  },
  "toc": {
   "base_numbering": 1,
   "nav_menu": {},
   "number_sections": true,
   "sideBar": true,
   "skip_h1_title": false,
   "title_cell": "Table of Contents",
   "title_sidebar": "Contents",
   "toc_cell": false,
   "toc_position": {},
   "toc_section_display": true,
   "toc_window_display": true
  }
 },
 "nbformat": 4,
 "nbformat_minor": 5
}
