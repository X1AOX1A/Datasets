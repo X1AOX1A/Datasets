{
 "cells": [
  {
   "cell_type": "markdown",
   "metadata": {},
   "source": [
    "# CoCo Entities"
   ]
  },
  {
   "cell_type": "code",
   "execution_count": 1,
   "metadata": {
    "ExecuteTime": {
     "end_time": "2023-07-25T07:32:10.252882Z",
     "start_time": "2023-07-25T07:32:10.242016Z"
    }
   },
   "outputs": [],
   "source": [
    "import json\n",
    "\n",
    "import os\n",
    "def get_coco_entities_splits(coco_entities_path):\n",
    "    coco_entities = json.load(open(coco_entities_path, \"r\"))\n",
    "    coco_entities_splits = {\"train\": {}, \"val\": {}, \"test\": {}}\n",
    "    for image_id, entities in coco_entities.items():\n",
    "        split = list(entities.values())[0][\"split\"]\n",
    "        coco_entities_splits[split][image_id] = entities\n",
    "    return coco_entities_splits"
   ]
  },
  {
   "cell_type": "code",
   "execution_count": 2,
   "metadata": {
    "ExecuteTime": {
     "end_time": "2023-07-25T07:32:33.758695Z",
     "start_time": "2023-07-25T07:32:10.254799Z"
    }
   },
   "outputs": [],
   "source": [
    "coco_entities_path = \"/root/Documents/DATASETS/CoCo_Entities/coco_entities_release.json\"\n",
    "coco_entities_splits = get_coco_entities_splits(coco_entities_path)"
   ]
  },
  {
   "cell_type": "code",
   "execution_count": 3,
   "metadata": {
    "ExecuteTime": {
     "end_time": "2023-07-25T07:32:33.913474Z",
     "start_time": "2023-07-25T07:32:33.761116Z"
    }
   },
   "outputs": [
    {
     "name": "stdout",
     "output_type": "stream",
     "text": [
      "# train [images|captions]: [113179|544926]\n",
      "# val [images|captions]: [4995|24015]\n",
      "# test [images|captions]: [4995|23940]\n"
     ]
    }
   ],
   "source": [
    "coco_entities_image_ids = {\"train\": [], \"val\": [], \"test\": []}\n",
    "for split_name, split in coco_entities_splits.items():\n",
    "    image_ids = list(split.keys())\n",
    "    coco_entities_image_ids[split_name] = [int(image_id) for image_id in image_ids]\n",
    "    assert len(image_ids) == len(set(image_ids))\n",
    "    cap_num = 0\n",
    "    for image_id in image_ids:\n",
    "        cap_num += len(split[str(image_id)])\n",
    "    print(\"# {} [images|captions]: [{}|{}]\".format(split_name, len(image_ids), cap_num))"
   ]
  },
  {
   "cell_type": "markdown",
   "metadata": {},
   "source": [
    "# CoCo Captions"
   ]
  },
  {
   "cell_type": "code",
   "execution_count": 4,
   "metadata": {
    "ExecuteTime": {
     "end_time": "2023-07-25T07:32:33.920940Z",
     "start_time": "2023-07-25T07:32:33.916591Z"
    }
   },
   "outputs": [],
   "source": [
    "def get_coco_annotations_splits(ann_root):    \n",
    "    splits = {\n",
    "        \"train\": 'coco_karpathy_train.json',\n",
    "        \"val\": 'coco_karpathy_val.json',\n",
    "        \"test\": 'coco_karpathy_test.json',\n",
    "    }\n",
    "    \n",
    "    coco_ann_splits = {}\n",
    "    for split, file in splits.items():\n",
    "        data = json.load(\n",
    "            open(os.path.join(ann_root, file), \"r\")\n",
    "        )                    \n",
    "        coco_ann_splits[split] = data   \n",
    "    return coco_ann_splits"
   ]
  },
  {
   "cell_type": "code",
   "execution_count": 5,
   "metadata": {
    "ExecuteTime": {
     "end_time": "2023-07-25T07:32:34.599784Z",
     "start_time": "2023-07-25T07:32:33.922855Z"
    }
   },
   "outputs": [],
   "source": [
    "ann_root = \"/root/Documents/DATASETS/MS_COCO/annotations\"\n",
    "coco_ann_splits = get_coco_annotations_splits(ann_root)"
   ]
  },
  {
   "cell_type": "code",
   "execution_count": 6,
   "metadata": {
    "ExecuteTime": {
     "end_time": "2023-07-25T07:32:35.220831Z",
     "start_time": "2023-07-25T07:32:34.602451Z"
    }
   },
   "outputs": [
    {
     "name": "stdout",
     "output_type": "stream",
     "text": [
      "# train [images|captions]: [113287|566747]\n",
      "# val [images|captions]: [5000|25010]\n",
      "# test [images|captions]: [5000|25010]\n"
     ]
    }
   ],
   "source": [
    "coco_ann_image_ids = {\"train\": [], \"val\": [], \"test\": []}\n",
    "for split_name, split in coco_ann_splits.items():\n",
    "    image_ids = []\n",
    "    cap_num = 0\n",
    "    for ann in split:        \n",
    "        image_id = int(ann[\"image\"].split('_')[-1].split('.')[0])\n",
    "        image_ids.append(image_id)\n",
    "        caption = ann[\"caption\"]\n",
    "        cap_num += len(caption) if type(caption) is list else 1\n",
    "    image_ids = list(set(image_ids))\n",
    "    coco_ann_image_ids[split_name] = image_ids\n",
    "    print(\"# {} [images|captions]: [{}|{}]\".format(split_name, len(image_ids), cap_num))"
   ]
  },
  {
   "cell_type": "markdown",
   "metadata": {},
   "source": [
    "# Difference between CoCo Entities and CoCo Captions"
   ]
  },
  {
   "cell_type": "code",
   "execution_count": 7,
   "metadata": {
    "ExecuteTime": {
     "end_time": "2023-07-25T07:32:35.274034Z",
     "start_time": "2023-07-25T07:32:35.222511Z"
    }
   },
   "outputs": [
    {
     "name": "stdout",
     "output_type": "stream",
     "text": [
      "# of train images in coco_ann but not in coco_entities: 108\n",
      "# of train images in coco_entities but not in coco_ann: 0\n",
      "# of val images in coco_ann but not in coco_entities: 5\n",
      "# of val images in coco_entities but not in coco_ann: 0\n",
      "# of test images in coco_ann but not in coco_entities: 5\n",
      "# of test images in coco_entities but not in coco_ann: 0\n"
     ]
    }
   ],
   "source": [
    "# find the diff between coco_entities and coco_ann\n",
    "for split in [\"train\", \"val\", \"test\"]:\n",
    "    coco_entities_set = set(coco_entities_image_ids[split])\n",
    "    coco_ann_set = set(coco_ann_image_ids[split])\n",
    "    print(\"# of {} images in coco_ann but not in coco_entities: {}\".format(split, len(coco_ann_set-coco_entities_set)))\n",
    "    print(\"# of {} images in coco_entities but not in coco_ann: {}\".format(split, len(coco_entities_set-coco_ann_set)))"
   ]
  }
 ],
 "metadata": {
  "kernelspec": {
   "display_name": "PlayGround",
   "language": "python",
   "name": "playground"
  },
  "language_info": {
   "codemirror_mode": {
    "name": "ipython",
    "version": 3
   },
   "file_extension": ".py",
   "mimetype": "text/x-python",
   "name": "python",
   "nbconvert_exporter": "python",
   "pygments_lexer": "ipython3",
   "version": "3.8.0"
  },
  "toc": {
   "base_numbering": 1,
   "nav_menu": {},
   "number_sections": true,
   "sideBar": true,
   "skip_h1_title": false,
   "title_cell": "Table of Contents",
   "title_sidebar": "Contents",
   "toc_cell": false,
   "toc_position": {},
   "toc_section_display": true,
   "toc_window_display": false
  }
 },
 "nbformat": 4,
 "nbformat_minor": 2
}
